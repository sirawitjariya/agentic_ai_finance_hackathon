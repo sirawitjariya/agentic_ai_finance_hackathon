{
 "cells": [
  {
   "cell_type": "markdown",
   "id": "e0219caa",
   "metadata": {},
   "source": [
    "## Import library & Setup"
   ]
  },
  {
   "cell_type": "code",
   "execution_count": 1,
   "id": "a9eea36c",
   "metadata": {},
   "outputs": [],
   "source": [
    "# ✅ Standard Libraries\n",
    "import os\n",
    "import time\n",
    "from uuid import uuid4\n",
    "from typing import Literal, Optional,List\n",
    "from typing_extensions import TypedDict\n",
    "\n",
    "# ✅ Third-Party Utilities\n",
    "import numpy as np\n",
    "import pandas as pd\n",
    "from tqdm import tqdm\n",
    "from dotenv import load_dotenv\n",
    "\n",
    "# ✅ LangChain Core\n",
    "from langchain_core.tools import tool\n",
    "from langchain_core.messages import convert_to_messages\n",
    "from langchain_core.documents import Document\n",
    "from langchain_core.runnables import RunnableConfig,RunnableLambda\n",
    "\n",
    "# ✅ LangChain Models\n",
    "from langchain_openai import ChatOpenAI, OpenAIEmbeddings\n",
    "from langchain_google_vertexai import ChatVertexAI\n",
    "\n",
    "# ✅ LangChain MongoDB Integration\n",
    "from pymongo.mongo_client import MongoClient\n",
    "from pymongo.server_api import ServerApi\n",
    "from langchain_mongodb import MongoDBAtlasVectorSearch\n",
    "from langchain_mongodb.retrievers.hybrid_search import MongoDBAtlasHybridSearchRetriever\n",
    "\n",
    "# ✅ LangChain Tools / Plugins\n",
    "from langchain_tavily import TavilySearch\n",
    "from langchain.output_parsers.openai_functions import (\n",
    "    JsonOutputFunctionsParser,\n",
    "    PydanticOutputFunctionsParser\n",
    ")\n",
    "from langchain.utils.openai_functions import convert_pydantic_to_openai_function\n",
    "from langchain.prompts import ChatPromptTemplate, PromptTemplate\n",
    "\n",
    "# ✅ LangGraph\n",
    "from langgraph.graph import StateGraph, END\n",
    "from langgraph.prebuilt import create_react_agent\n",
    "from langchain_community.callbacks import get_openai_callback\n",
    "\n",
    "# ✅ Pydantic for Schema\n",
    "from pydantic import BaseModel, Field"
   ]
  },
  {
   "cell_type": "code",
   "execution_count": 2,
   "id": "814c3e1e",
   "metadata": {},
   "outputs": [],
   "source": [
    "# ✅ Load variables from .env file\n",
    "load_dotenv()\n",
    "\n",
    "# ✅ Access API keys and URIs\n",
    "openai_api_key = os.getenv(\"OPENAI_API_KEY\")\n",
    "tavily_api_key = os.getenv(\"TAVILY_API_KEY\")\n",
    "\n",
    "# ✅ Raise error if any key is missing\n",
    "if not openai_api_key:\n",
    "    raise ValueError(\"OPENAI_API_KEY is not set in .env file\")\n",
    "if not tavily_api_key:\n",
    "    raise ValueError(\"TAVILY_API_KEY is not set in .env file\")\n",
    "\n",
    "# ✅ Optional: Set as environment variables for downstream tools\n",
    "os.environ[\"OPENAI_API_KEY\"] = openai_api_key\n",
    "os.environ[\"TAVILY_API_KEY\"] = tavily_api_key\n"
   ]
  },
  {
   "cell_type": "code",
   "execution_count": 3,
   "id": "2dfb51c3",
   "metadata": {},
   "outputs": [],
   "source": [
    "def pretty_print_message(message, indent=False):\n",
    "    pretty_message = message.pretty_repr(html=True)\n",
    "    if not indent:\n",
    "        print(pretty_message)\n",
    "        return\n",
    "\n",
    "    indented = \"\\n\".join(\"\\t\" + c for c in pretty_message.split(\"\\n\"))\n",
    "    print(indented)\n",
    "\n",
    "\n",
    "def pretty_print_messages(update, last_message=False):\n",
    "    is_subgraph = False\n",
    "    if isinstance(update, tuple):\n",
    "        ns, update = update\n",
    "        # skip parent graph updates in the printouts\n",
    "        if len(ns) == 0:\n",
    "            return\n",
    "\n",
    "        graph_id = ns[-1].split(\":\")[0]\n",
    "        print(f\"Update from subgraph {graph_id}:\")\n",
    "        print(\"\\n\")\n",
    "        is_subgraph = True\n",
    "\n",
    "    for node_name, node_update in update.items():\n",
    "        update_label = f\"Update from node {node_name}:\"\n",
    "        if is_subgraph:\n",
    "            update_label = \"\\t\" + update_label\n",
    "\n",
    "        print(update_label)\n",
    "        print(\"\\n\")\n",
    "\n",
    "        messages = convert_to_messages(node_update[\"messages\"])\n",
    "        if last_message:\n",
    "            messages = messages[-1:]\n",
    "\n",
    "        for m in messages:\n",
    "            pretty_print_message(m, indent=is_subgraph)\n",
    "        print(\"\\n\")"
   ]
  },
  {
   "cell_type": "markdown",
   "id": "573ec021",
   "metadata": {},
   "source": [
    "## Read test data"
   ]
  },
  {
   "cell_type": "code",
   "execution_count": 4,
   "id": "c8e54eaa",
   "metadata": {},
   "outputs": [
    {
     "data": {
      "text/plain": [
       "(499, 2)"
      ]
     },
     "metadata": {},
     "output_type": "display_data"
    },
    {
     "data": {
      "text/html": [
       "<div>\n",
       "<style scoped>\n",
       "    .dataframe tbody tr th:only-of-type {\n",
       "        vertical-align: middle;\n",
       "    }\n",
       "\n",
       "    .dataframe tbody tr th {\n",
       "        vertical-align: top;\n",
       "    }\n",
       "\n",
       "    .dataframe thead th {\n",
       "        text-align: right;\n",
       "    }\n",
       "</style>\n",
       "<table border=\"1\" class=\"dataframe\">\n",
       "  <thead>\n",
       "    <tr style=\"text-align: right;\">\n",
       "      <th></th>\n",
       "      <th>id</th>\n",
       "      <th>query</th>\n",
       "    </tr>\n",
       "  </thead>\n",
       "  <tbody>\n",
       "    <tr>\n",
       "      <th>0</th>\n",
       "      <td>36deab86-cfd3-48b5-9bea-a36c1b0e63a8</td>\n",
       "      <td>ตอบคำถามด้วยตัวเลือกที่เหมาะสม A, B, C และ D โ...</td>\n",
       "    </tr>\n",
       "    <tr>\n",
       "      <th>1</th>\n",
       "      <td>2b5bbd26-45e8-4768-ab8a-b5dc1d153ab7</td>\n",
       "      <td>Answer the question with the appropriate optio...</td>\n",
       "    </tr>\n",
       "    <tr>\n",
       "      <th>2</th>\n",
       "      <td>8a722080-bc16-49db-89c9-100cd61cd28a</td>\n",
       "      <td>Answer the question with the appropriate optio...</td>\n",
       "    </tr>\n",
       "    <tr>\n",
       "      <th>3</th>\n",
       "      <td>75316e95-88f4-4fef-83b9-dde0aa52889a</td>\n",
       "      <td>ตอบคำถามด้วยตัวเลือกที่เหมาะสม A, B, C และ D โ...</td>\n",
       "    </tr>\n",
       "    <tr>\n",
       "      <th>4</th>\n",
       "      <td>bcca13bc-2675-4645-82cc-7e4c412ed294</td>\n",
       "      <td>Given the data and tweets, could you project w...</td>\n",
       "    </tr>\n",
       "  </tbody>\n",
       "</table>\n",
       "</div>"
      ],
      "text/plain": [
       "                                     id  \\\n",
       "0  36deab86-cfd3-48b5-9bea-a36c1b0e63a8   \n",
       "1  2b5bbd26-45e8-4768-ab8a-b5dc1d153ab7   \n",
       "2  8a722080-bc16-49db-89c9-100cd61cd28a   \n",
       "3  75316e95-88f4-4fef-83b9-dde0aa52889a   \n",
       "4  bcca13bc-2675-4645-82cc-7e4c412ed294   \n",
       "\n",
       "                                               query  \n",
       "0  ตอบคำถามด้วยตัวเลือกที่เหมาะสม A, B, C และ D โ...  \n",
       "1  Answer the question with the appropriate optio...  \n",
       "2  Answer the question with the appropriate optio...  \n",
       "3  ตอบคำถามด้วยตัวเลือกที่เหมาะสม A, B, C และ D โ...  \n",
       "4  Given the data and tweets, could you project w...  "
      ]
     },
     "metadata": {},
     "output_type": "display_data"
    }
   ],
   "source": [
    "data = pd.read_csv(\"../test.csv\")\n",
    "\n",
    "display(data.shape)\n",
    "display(data.head(5))"
   ]
  },
  {
   "cell_type": "code",
   "execution_count": 5,
   "id": "480442d2",
   "metadata": {},
   "outputs": [
    {
     "name": "stdout",
     "output_type": "stream",
     "text": [
      "ตอบคำถามด้วยตัวเลือกที่เหมาะสม A, B, C และ D โปรดตอบด้วยคำตอบที่ถูกต้อง A, B, C หรือ D เท่านั้น อย่าใช้คำฟุ่มเฟือยหรือให้ข้อมูลเพิ่มเติม\n",
      "\n",
      "คำถาม: ______ สถานที่ทำงานเกี่ยวข้องกับการเสริมสร้างศักยภาพให้พนักงาน ตัวอย่างเช่น 'job enrichment' ที่พนักงานได้รับขอบเขตที่ใหญ่ขึ้นในการตัดสินใจว่าจะจัดระเบียบงานของตนอย่างไร หรือ 'job enlargement' ที่พนักงานได้รับมอบหมายงานที่หลากหลายมากขึ้น\n",
      "\n",
      "ตัวเลือกคำตอบ: A: Re-invigorating, B: Re-flourishing, C: Revitalizing, D: Rehumanizing\n",
      "\n",
      "คำตอบ:\n"
     ]
    }
   ],
   "source": [
    "print(data.iloc[0,1])\n"
   ]
  },
  {
   "cell_type": "code",
   "execution_count": 6,
   "id": "0e6b4fbd",
   "metadata": {},
   "outputs": [],
   "source": [
    "# for i in range(5):\n",
    "#     print(data.iloc[i,1])\n",
    "#     print('\\n')"
   ]
  },
  {
   "cell_type": "markdown",
   "id": "d09d9c1d",
   "metadata": {},
   "source": [
    "## Create Agent"
   ]
  },
  {
   "cell_type": "markdown",
   "id": "db790b73",
   "metadata": {},
   "source": [
    "### Only LLM"
   ]
  },
  {
   "cell_type": "markdown",
   "id": "45c326ff",
   "metadata": {},
   "source": [
    "##### Template"
   ]
  },
  {
   "cell_type": "code",
   "execution_count": 51,
   "id": "d2d38a5e",
   "metadata": {},
   "outputs": [],
   "source": [
    "class OutputFormat(BaseModel):\n",
    "    answer: str = Field(..., description=\"Choose the best answer from the multiple choices\")\n",
    "    reason: str = Field(..., description=\"A paragraph summarizing that leading to your conclusion\")\n",
    "\n",
    "# 2) Define input TypedDict\n",
    "class InputFormat(TypedDict):\n",
    "    id: str\n",
    "    query: str\n",
    "\n",
    "# 3) RCRC‐style prompt\n",
    "prompt = \"\"\"\n",
    "<role>\n",
    "You are the expert in multiple-choice question answering. \n",
    "You will be given a instruction and a question.\n",
    "Your task is to select the best answer and provide a concise explanation for your choice.\n",
    "</role>\n",
    "\n",
    "<context>\n",
    "ID: {id}\n",
    "{query}\n",
    "</context>\n",
    "\n",
    "<result>\n",
    "Return JSON with:\n",
    "- answer: best answer from the given instruction\n",
    "- reason: A concise explanation justifying the answer (32–256 tokens)\n",
    "</result>\n",
    "\n",
    "<constraint>\n",
    "- reason length: >32 and <256 tokens\n",
    "</constraint>\n",
    "\"\"\"\n",
    "\n",
    "# 4) Initialize the LLM\n",
    "llm = ChatOpenAI(model=\"gpt-4.1\", temperature=0.1)\n",
    "\n",
    "# 5) Convert Pydantic schema to OpenAI function spec\n",
    "function_spec = convert_pydantic_to_openai_function(OutputFormat)\n",
    "\n",
    "# 6) Build the classification chain\n",
    "chain = (\n",
    "    PromptTemplate.from_template(prompt)\n",
    "    | llm.bind(\n",
    "        functions=[function_spec],\n",
    "        function_call={\"name\": function_spec[\"name\"]}\n",
    "    )\n",
    "    | PydanticOutputFunctionsParser(pydantic_schema=OutputFormat)\n",
    ")\n"
   ]
  },
  {
   "cell_type": "markdown",
   "id": "44abb708",
   "metadata": {},
   "source": [
    "##### Test"
   ]
  },
  {
   "cell_type": "code",
   "execution_count": 52,
   "id": "1eb579c8",
   "metadata": {},
   "outputs": [
    {
     "name": "stdout",
     "output_type": "stream",
     "text": [
      "ตอบคำถามด้วยตัวเลือกที่เหมาะสม A, B, C และ D โปรดตอบด้วยคำตอบที่ถูกต้อง A, B, C หรือ D เท่านั้น อย่าใช้คำฟุ่มเฟือยหรือให้ข้อมูลเพิ่มเติม\n",
      "\n",
      "คำถาม: ______ สถานที่ทำงานเกี่ยวข้องกับการเสริมสร้างศักยภาพให้พนักงาน ตัวอย่างเช่น 'job enrichment' ที่พนักงานได้รับขอบเขตที่ใหญ่ขึ้นในการตัดสินใจว่าจะจัดระเบียบงานของตนอย่างไร หรือ 'job enlargement' ที่พนักงานได้รับมอบหมายงานที่หลากหลายมากขึ้น\n",
      "\n",
      "ตัวเลือกคำตอบ: A: Re-invigorating, B: Re-flourishing, C: Revitalizing, D: Rehumanizing\n",
      "\n",
      "คำตอบ:\n"
     ]
    },
    {
     "data": {
      "text/plain": [
       "OutputFormat(answer='C', reason=\"คำถามกล่าวถึงการเสริมสร้างศักยภาพและขยายขอบเขตงานของพนักงาน เช่น job enrichment และ job enlargement ซึ่งเป็นการทำให้พนักงานมีพลังและแรงจูงใจมากขึ้น คำว่า 'Revitalizing' (ตัวเลือก C) หมายถึงการฟื้นฟูหรือเสริมสร้างพลังใหม่ให้กับบางสิ่ง ซึ่งตรงกับบริบทของการเสริมสร้างศักยภาพในสถานที่ทำงาน ตัวเลือกอื่น ๆ ไม่ตรงกับความหมายนี้เท่า 'Revitalizing'\")"
      ]
     },
     "execution_count": 52,
     "metadata": {},
     "output_type": "execute_result"
    }
   ],
   "source": [
    "test = data.loc[0, \"query\"]\n",
    "print(test)\n",
    "\n",
    "response = chain.invoke({   \n",
    "    \"id\": 1234,\n",
    "    \"query\": test\n",
    "})\n",
    "\n",
    "response"
   ]
  },
  {
   "cell_type": "markdown",
   "id": "ef35ae1e",
   "metadata": {},
   "source": [
    "##### Run full dataset"
   ]
  },
  {
   "cell_type": "code",
   "execution_count": 53,
   "id": "9d3fc2ed",
   "metadata": {},
   "outputs": [
    {
     "name": "stdout",
     "output_type": "stream",
     "text": [
      "Processed 0 rows so far...\n",
      "Processed 5 rows so far...\n",
      "Processed 10 rows so far...\n",
      "Processed 15 rows so far...\n",
      "Processed 20 rows so far...\n",
      "Processed 25 rows so far...\n",
      "Processed 30 rows so far...\n",
      "Processed 35 rows so far...\n",
      "Processed 40 rows so far...\n",
      "Processed 45 rows so far...\n",
      "Processed 50 rows so far...\n",
      "Processed 55 rows so far...\n",
      "Processed 60 rows so far...\n",
      "Processed 65 rows so far...\n",
      "Processed 70 rows so far...\n",
      "Processed 75 rows so far...\n",
      "Processed 80 rows so far...\n",
      "Processed 85 rows so far...\n",
      "Processed 90 rows so far...\n",
      "Processed 95 rows so far...\n",
      "Processed 100 rows so far...\n",
      "Processed 105 rows so far...\n",
      "Processed 110 rows so far...\n",
      "Processed 115 rows so far...\n",
      "Processed 120 rows so far...\n",
      "Processed 125 rows so far...\n",
      "Processed 130 rows so far...\n",
      "Processed 135 rows so far...\n",
      "Processed 140 rows so far...\n",
      "Processed 145 rows so far...\n",
      "Processed 150 rows so far...\n",
      "Processed 155 rows so far...\n",
      "Processed 160 rows so far...\n",
      "Processed 165 rows so far...\n",
      "Processed 170 rows so far...\n",
      "Processed 175 rows so far...\n",
      "Processed 180 rows so far...\n",
      "Processed 185 rows so far...\n",
      "Processed 190 rows so far...\n",
      "Processed 195 rows so far...\n",
      "Processed 200 rows so far...\n",
      "Processed 205 rows so far...\n",
      "Processed 210 rows so far...\n",
      "Processed 215 rows so far...\n",
      "Processed 220 rows so far...\n",
      "Processed 225 rows so far...\n",
      "Processed 230 rows so far...\n",
      "Processed 235 rows so far...\n",
      "Processed 240 rows so far...\n",
      "Processed 245 rows so far...\n",
      "Processed 250 rows so far...\n",
      "Processed 255 rows so far...\n",
      "Processed 260 rows so far...\n",
      "Processed 265 rows so far...\n",
      "Processed 270 rows so far...\n",
      "Processed 275 rows so far...\n",
      "Processed 280 rows so far...\n",
      "Processed 285 rows so far...\n",
      "Processed 290 rows so far...\n",
      "Processed 295 rows so far...\n",
      "Processed 300 rows so far...\n",
      "Processed 305 rows so far...\n",
      "Processed 310 rows so far...\n",
      "Processed 315 rows so far...\n",
      "Processed 320 rows so far...\n",
      "Processed 325 rows so far...\n",
      "Processed 330 rows so far...\n",
      "Processed 335 rows so far...\n",
      "Processed 340 rows so far...\n",
      "Processed 345 rows so far...\n",
      "Processed 350 rows so far...\n",
      "Processed 355 rows so far...\n",
      "Processed 360 rows so far...\n",
      "Processed 365 rows so far...\n",
      "Processed 370 rows so far...\n",
      "Processed 375 rows so far...\n",
      "Processed 380 rows so far...\n",
      "Processed 385 rows so far...\n",
      "Processed 390 rows so far...\n",
      "Processed 395 rows so far...\n",
      "Processed 400 rows so far...\n",
      "Processed 405 rows so far...\n",
      "Processed 410 rows so far...\n",
      "Processed 415 rows so far...\n",
      "Processed 420 rows so far...\n",
      "Processed 425 rows so far...\n",
      "Processed 430 rows so far...\n",
      "Processed 435 rows so far...\n",
      "Processed 440 rows so far...\n",
      "Processed 445 rows so far...\n",
      "Processed 450 rows so far...\n",
      "Processed 455 rows so far...\n",
      "Processed 460 rows so far...\n",
      "Processed 465 rows so far...\n",
      "Processed 470 rows so far...\n",
      "Processed 475 rows so far...\n",
      "Processed 480 rows so far...\n",
      "Processed 485 rows so far...\n",
      "Processed 490 rows so far...\n",
      "Processed 495 rows so far...\n"
     ]
    },
    {
     "data": {
      "text/html": [
       "<div>\n",
       "<style scoped>\n",
       "    .dataframe tbody tr th:only-of-type {\n",
       "        vertical-align: middle;\n",
       "    }\n",
       "\n",
       "    .dataframe tbody tr th {\n",
       "        vertical-align: top;\n",
       "    }\n",
       "\n",
       "    .dataframe thead th {\n",
       "        text-align: right;\n",
       "    }\n",
       "</style>\n",
       "<table border=\"1\" class=\"dataframe\">\n",
       "  <thead>\n",
       "    <tr style=\"text-align: right;\">\n",
       "      <th></th>\n",
       "      <th>id</th>\n",
       "      <th>query</th>\n",
       "      <th>0</th>\n",
       "      <th>1</th>\n",
       "    </tr>\n",
       "  </thead>\n",
       "  <tbody>\n",
       "    <tr>\n",
       "      <th>0</th>\n",
       "      <td>36deab86-cfd3-48b5-9bea-a36c1b0e63a8</td>\n",
       "      <td>ตอบคำถามด้วยตัวเลือกที่เหมาะสม A, B, C และ D โ...</td>\n",
       "      <td>C</td>\n",
       "      <td>คำตอบที่ถูกต้องคือ C: Revitalizing เนื่องจากคำ...</td>\n",
       "    </tr>\n",
       "    <tr>\n",
       "      <th>1</th>\n",
       "      <td>2b5bbd26-45e8-4768-ab8a-b5dc1d153ab7</td>\n",
       "      <td>Answer the question with the appropriate optio...</td>\n",
       "      <td>B</td>\n",
       "      <td>James Dyson is the entrepreneur among the opti...</td>\n",
       "    </tr>\n",
       "    <tr>\n",
       "      <th>2</th>\n",
       "      <td>8a722080-bc16-49db-89c9-100cd61cd28a</td>\n",
       "      <td>Answer the question with the appropriate optio...</td>\n",
       "      <td>A</td>\n",
       "      <td>According to COSO, the most effective way to c...</td>\n",
       "    </tr>\n",
       "    <tr>\n",
       "      <th>3</th>\n",
       "      <td>75316e95-88f4-4fef-83b9-dde0aa52889a</td>\n",
       "      <td>ตอบคำถามด้วยตัวเลือกที่เหมาะสม A, B, C และ D โ...</td>\n",
       "      <td>C</td>\n",
       "      <td>GDP ที่แท้จริงปัจจุบันสูงกว่าระดับการจ้างงานเต...</td>\n",
       "    </tr>\n",
       "    <tr>\n",
       "      <th>4</th>\n",
       "      <td>bcca13bc-2675-4645-82cc-7e4c412ed294</td>\n",
       "      <td>Given the data and tweets, could you project w...</td>\n",
       "      <td>Rise</td>\n",
       "      <td>Based on the data, the closing price of $intc ...</td>\n",
       "    </tr>\n",
       "    <tr>\n",
       "      <th>...</th>\n",
       "      <td>...</td>\n",
       "      <td>...</td>\n",
       "      <td>...</td>\n",
       "      <td>...</td>\n",
       "    </tr>\n",
       "    <tr>\n",
       "      <th>494</th>\n",
       "      <td>c9dd262e-405c-4078-baae-262aa48ddcc8</td>\n",
       "      <td>Answer the question with the appropriate optio...</td>\n",
       "      <td>A</td>\n",
       "      <td>The general to specific (LSE/Hendry) approach ...</td>\n",
       "    </tr>\n",
       "    <tr>\n",
       "      <th>495</th>\n",
       "      <td>73c720b5-1101-4790-af52-3366823e1d32</td>\n",
       "      <td>ตอบคำถามโดยใช้ตัวเลือกที่เหมาะสม A, B, C และ D...</td>\n",
       "      <td>B</td>\n",
       "      <td>ทฤษฎี Instrumental (B) หรือทฤษฎีเชิงเครื่องมือ...</td>\n",
       "    </tr>\n",
       "    <tr>\n",
       "      <th>496</th>\n",
       "      <td>357db18f-d872-416e-a07f-753099853d9c</td>\n",
       "      <td>ตอบคำถามด้วยตัวเลือกที่เหมาะสม A, B, C และ D โ...</td>\n",
       "      <td>D</td>\n",
       "      <td>คำถามถามถึงวิธีการส่งมอบผลิตภัณฑ์ให้ตรงกับความ...</td>\n",
       "    </tr>\n",
       "    <tr>\n",
       "      <th>497</th>\n",
       "      <td>2d8b1419-1c46-4e83-892a-081fb417de38</td>\n",
       "      <td>Scrutinize the data and tweets to envisage if ...</td>\n",
       "      <td>Rise</td>\n",
       "      <td>Examining the price data, $BAC's closing price...</td>\n",
       "    </tr>\n",
       "    <tr>\n",
       "      <th>498</th>\n",
       "      <td>0ef677d5-2858-407c-9fd5-49d8afbeaaac</td>\n",
       "      <td>Answer the question with the appropriate optio...</td>\n",
       "      <td>C</td>\n",
       "      <td>The product of price and quantity sold is know...</td>\n",
       "    </tr>\n",
       "  </tbody>\n",
       "</table>\n",
       "<p>499 rows × 4 columns</p>\n",
       "</div>"
      ],
      "text/plain": [
       "                                       id  \\\n",
       "0    36deab86-cfd3-48b5-9bea-a36c1b0e63a8   \n",
       "1    2b5bbd26-45e8-4768-ab8a-b5dc1d153ab7   \n",
       "2    8a722080-bc16-49db-89c9-100cd61cd28a   \n",
       "3    75316e95-88f4-4fef-83b9-dde0aa52889a   \n",
       "4    bcca13bc-2675-4645-82cc-7e4c412ed294   \n",
       "..                                    ...   \n",
       "494  c9dd262e-405c-4078-baae-262aa48ddcc8   \n",
       "495  73c720b5-1101-4790-af52-3366823e1d32   \n",
       "496  357db18f-d872-416e-a07f-753099853d9c   \n",
       "497  2d8b1419-1c46-4e83-892a-081fb417de38   \n",
       "498  0ef677d5-2858-407c-9fd5-49d8afbeaaac   \n",
       "\n",
       "                                                 query     0  \\\n",
       "0    ตอบคำถามด้วยตัวเลือกที่เหมาะสม A, B, C และ D โ...     C   \n",
       "1    Answer the question with the appropriate optio...     B   \n",
       "2    Answer the question with the appropriate optio...     A   \n",
       "3    ตอบคำถามด้วยตัวเลือกที่เหมาะสม A, B, C และ D โ...     C   \n",
       "4    Given the data and tweets, could you project w...  Rise   \n",
       "..                                                 ...   ...   \n",
       "494  Answer the question with the appropriate optio...     A   \n",
       "495  ตอบคำถามโดยใช้ตัวเลือกที่เหมาะสม A, B, C และ D...     B   \n",
       "496  ตอบคำถามด้วยตัวเลือกที่เหมาะสม A, B, C และ D โ...     D   \n",
       "497  Scrutinize the data and tweets to envisage if ...  Rise   \n",
       "498  Answer the question with the appropriate optio...     C   \n",
       "\n",
       "                                                     1  \n",
       "0    คำตอบที่ถูกต้องคือ C: Revitalizing เนื่องจากคำ...  \n",
       "1    James Dyson is the entrepreneur among the opti...  \n",
       "2    According to COSO, the most effective way to c...  \n",
       "3    GDP ที่แท้จริงปัจจุบันสูงกว่าระดับการจ้างงานเต...  \n",
       "4    Based on the data, the closing price of $intc ...  \n",
       "..                                                 ...  \n",
       "494  The general to specific (LSE/Hendry) approach ...  \n",
       "495  ทฤษฎี Instrumental (B) หรือทฤษฎีเชิงเครื่องมือ...  \n",
       "496  คำถามถามถึงวิธีการส่งมอบผลิตภัณฑ์ให้ตรงกับความ...  \n",
       "497  Examining the price data, $BAC's closing price...  \n",
       "498  The product of price and quantity sold is know...  \n",
       "\n",
       "[499 rows x 4 columns]"
      ]
     },
     "metadata": {},
     "output_type": "display_data"
    }
   ],
   "source": [
    "results = []\n",
    "\n",
    "for num, row in data.iterrows():\n",
    "    input_data = InputFormat(id=row[\"id\"], query=row[\"query\"])\n",
    "    result = chain.invoke(input_data)\n",
    "    results.append([result.answer,result.reason])\n",
    "\n",
    "    # time.sleep(0.2)  # Sleep to avoid hitting rate limits\n",
    "    \n",
    "    if num % 5 == 0:\n",
    "        print(f\"Processed {num} rows so far...\")\n",
    "\n",
    "results_df = pd.DataFrame(results)\n",
    "final_df = pd.concat([data, results_df], axis=1)\n",
    "\n",
    "# display(results_df)\n",
    "display(final_df)"
   ]
  },
  {
   "cell_type": "code",
   "execution_count": 54,
   "id": "839f981f",
   "metadata": {},
   "outputs": [],
   "source": [
    "final_df.to_csv(\"output_llm_only.csv\", index=False)"
   ]
  },
  {
   "cell_type": "markdown",
   "id": "2ddb75b6",
   "metadata": {},
   "source": [
    "### LLM + Search Engine"
   ]
  },
  {
   "cell_type": "markdown",
   "id": "b2520918",
   "metadata": {},
   "source": [
    "#### Keyword search tools"
   ]
  },
  {
   "cell_type": "code",
   "execution_count": 14,
   "id": "1d980bc5",
   "metadata": {},
   "outputs": [],
   "source": [
    "class OutputFormat(BaseModel):\n",
    "    keyword_seach: str = Field(..., description=\"A compact keyword for searching in web seach tools to get more context for answering the question\")\n",
    "\n",
    "keyword_search_prompt = \"\"\"\n",
    "<role>\n",
    "You are a search assistant. Your task is to generate precise search keywords for financial or academic multiple-choice questions.\n",
    "</role>\n",
    "\n",
    "<context>\n",
    "Question and choice: {query}\n",
    "</context>\n",
    "\n",
    "<result>\n",
    "Return JSON with:\n",
    "- keyword_search: A concise phrase optimized for Google or Bing (no full sentences; use financial/domain terms only)\n",
    "</result>\n",
    "\n",
    "Generate a concise **search keyword phrase** that would help someone find the correct answer to this question using Google or Bing.\n",
    "Use key financial or domain-specific terms (avoid full sentence).\n",
    "\"\"\"\n",
    "\n",
    "# 4) Initialize the LLM\n",
    "keyword_search_llm = ChatOpenAI(model=\"gpt-4o-mini\", temperature=0.1)\n",
    "\n",
    "# 5) Convert Pydantic schema to OpenAI function spec\n",
    "keyword_search_function_spec = convert_pydantic_to_openai_function(OutputFormat)\n",
    "\n",
    "# 6) Build the classification chain\n",
    "keyword_search_chain = (\n",
    "    PromptTemplate.from_template(keyword_search_prompt)\n",
    "    | keyword_search_llm.bind(\n",
    "        functions=[keyword_search_function_spec],\n",
    "        function_call={\"name\": keyword_search_function_spec[\"name\"]}\n",
    "    )\n",
    "    | PydanticOutputFunctionsParser(pydantic_schema=OutputFormat)\n",
    ")"
   ]
  },
  {
   "cell_type": "code",
   "execution_count": 15,
   "id": "710e0829",
   "metadata": {},
   "outputs": [
    {
     "name": "stdout",
     "output_type": "stream",
     "text": [
      "ตอบคำถามด้วยตัวเลือกที่เหมาะสม A, B, C และ D โปรดตอบด้วยคำตอบที่ถูกต้อง A, B, C หรือ D เท่านั้น อย่าใช้คำฟุ่มเฟือยหรือให้ข้อมูลเพิ่มเติม\n",
      "\n",
      "คำถาม: ______ สถานที่ทำงานเกี่ยวข้องกับการเสริมสร้างศักยภาพให้พนักงาน ตัวอย่างเช่น 'job enrichment' ที่พนักงานได้รับขอบเขตที่ใหญ่ขึ้นในการตัดสินใจว่าจะจัดระเบียบงานของตนอย่างไร หรือ 'job enlargement' ที่พนักงานได้รับมอบหมายงานที่หลากหลายมากขึ้น\n",
      "\n",
      "ตัวเลือกคำตอบ: A: Re-invigorating, B: Re-flourishing, C: Revitalizing, D: Rehumanizing\n",
      "\n",
      "คำตอบ:\n"
     ]
    }
   ],
   "source": [
    "print(data.loc[0, \"query\"])"
   ]
  },
  {
   "cell_type": "code",
   "execution_count": 38,
   "id": "b7ced189",
   "metadata": {},
   "outputs": [
    {
     "data": {
      "text/plain": [
       "OutputFormat(keyword_seach='job enrichment job enlargement workplace empowerment')"
      ]
     },
     "execution_count": 38,
     "metadata": {},
     "output_type": "execute_result"
    }
   ],
   "source": [
    "keyword_search_chain_tool = keyword_search_chain.as_tool(\n",
    "    name=\"keyword_search_chain_tool\",\n",
    "    description=\"Find keywords for input into seach engine from question and answer choice\",\n",
    ")\n",
    "keyword_search_result = keyword_search_chain_tool.invoke({\"query\": data.loc[0, \"query\"]})\n",
    "\n",
    "keyword_search_result"
   ]
  },
  {
   "cell_type": "code",
   "execution_count": 17,
   "id": "8094eaf1",
   "metadata": {},
   "outputs": [],
   "source": [
    "# data.loc[0, \"query\"]"
   ]
  },
  {
   "cell_type": "code",
   "execution_count": 18,
   "id": "aa2d7a01",
   "metadata": {},
   "outputs": [
    {
     "data": {
      "text/plain": [
       "'job enrichment job enlargement workplace empowerment'"
      ]
     },
     "execution_count": 18,
     "metadata": {},
     "output_type": "execute_result"
    }
   ],
   "source": [
    "keyword_search_result.keyword_seach"
   ]
  },
  {
   "cell_type": "markdown",
   "id": "9dc6e6e4",
   "metadata": {},
   "source": [
    "#### Tavily Search"
   ]
  },
  {
   "cell_type": "code",
   "execution_count": 19,
   "id": "5d001410",
   "metadata": {},
   "outputs": [],
   "source": [
    "search_tool = TavilySearch(\n",
    "    max_results=3,\n",
    "    topic=\"general\",\n",
    ")\n",
    "\n",
    "search_result = search_tool.invoke(\"job enrichment job enlargement workplace empowerment\")"
   ]
  },
  {
   "cell_type": "code",
   "execution_count": 20,
   "id": "15813759",
   "metadata": {},
   "outputs": [
    {
     "data": {
      "text/plain": [
       "{'query': 'job enrichment job enlargement workplace empowerment',\n",
       " 'follow_up_questions': None,\n",
       " 'answer': None,\n",
       " 'images': [],\n",
       " 'results': [{'title': 'What is Employee Empowerment? Job Involvement & Culture - ASQ',\n",
       "   'url': 'https://asq.org/quality-resources/employee-empowerment',\n",
       "   'content': \"Employee empowerment varies based on an organization's culture and work design. However, empowerment is based on the concepts of job enlargement and job enrichment. Job enlargement differs from job enrichment in that job enlargement is horizontal expansion and job enrichment is considered vertical. Job enlargement: Horizontal job expansion by\",\n",
       "   'score': 0.82795376,\n",
       "   'raw_content': None},\n",
       "  {'title': 'Job Enrichment: A Pathway to Employee Empowerment',\n",
       "   'url': 'https://www.eleapsoftware.com/glossary/job-enrichment-a-pathway-to-employee-empowerment/',\n",
       "   'content': 'Job Enrichment: A Pathway to Employee Empowerment - eLeaP® Employee engagement is essential for any organization’s success; job enrichment is pivotal in enhancing that engagement. Job enrichment helps create a more stimulating work environment that motivates employees to invest time and energy in their tasks. ### The Role of Job Enrichment in Employee Well-Being Job enrichment should clarify how an employee’s role contributes to the organization’s goals. Engaging employees in the job enrichment process is crucial. Companies like eLeaP recognize the value of empowering employees through enriched job roles, leading to a more committed and innovative workforce. By focusing on job enrichment, organizations can create a work environment that not only meets the needs of their employees but also drives long-term business success.',\n",
       "   'score': 0.76279575,\n",
       "   'raw_content': None},\n",
       "  {'title': 'What is job rotation, enlargement, and enrichment? | Pitch Labs',\n",
       "   'url': 'https://www.pitchlabs.org/library/operations/human-resources/what-is-job-rotation-enlargement-and-enrichment',\n",
       "   'content': 'Job rotation aims to provide employees with exposure to various functions and responsibilities. Job enrichment increases the complexity of an employee’s job by adding additional responsibilities requiring higher-level skills. Job enrichment involves giving employees more decision-making authority and controlling their work processes. Overall, job rotation, job enlargement, and job enrichment are strategies organizations can employ to enhance satisfaction, skills development, and organizational performance by providing employees with varied experiences, responsibilities, and meaningful work. This article helps you choose the right online selling platforms based on your business model, target audience, and products. Pitch Labs bears no responsibility for the results of actions taken based off of article content or any other form of assistance given.',\n",
       "   'score': 0.75442725,\n",
       "   'raw_content': None}],\n",
       " 'response_time': 1.7}"
      ]
     },
     "execution_count": 20,
     "metadata": {},
     "output_type": "execute_result"
    }
   ],
   "source": [
    "search_result"
   ]
  },
  {
   "cell_type": "markdown",
   "id": "b348e93f",
   "metadata": {},
   "source": [
    "#### Final search engine agent"
   ]
  },
  {
   "cell_type": "markdown",
   "id": "6c9d552e",
   "metadata": {},
   "source": [
    "##### Template"
   ]
  },
  {
   "cell_type": "code",
   "execution_count": 39,
   "id": "7c6b2a94",
   "metadata": {},
   "outputs": [],
   "source": [
    "class OutputFormat(BaseModel):\n",
    "    answer: str = Field(..., description=\"Choose the best answer from the multiple choices\")\n",
    "    reason: str = Field(..., description=\"A paragraph summarizing that leading to your conclusion\")\n",
    "\n",
    "# 2) Define input TypedDict\n",
    "class InputFormat(TypedDict):\n",
    "    id: str\n",
    "    query: str\n",
    "\n",
    "web_search_prompt = \"\"\"\n",
    "<role>\n",
    "You are the expert in multiple-choice question answering. \n",
    "You will be given a instruction and a question.\n",
    "Your task is to select the best answer and provide a concise explanation for your choice.\n",
    "</role>\n",
    "\n",
    "<context>\n",
    "ID: {id}\n",
    "{query}\n",
    "\n",
    "Use the tools in this order:\n",
    "1. 🔧 Keyword search → extract search phrase from the input question and choice  \n",
    "2. 🔧 Search tool → retrieve context from the search results to get content and url\n",
    "\n",
    "Get context from Web search to help finding the correct answer\n",
    "</context>\n",
    "\n",
    "<result>\n",
    "Return JSON with:\n",
    "- answer: best answer from the given instruction\n",
    "- reason: A concise explanation justifying the answer (32–256 tokens)\n",
    "</result>\n",
    "\n",
    "<constraint>\n",
    "- Every answer must be based on the context retrieved from the search tools\n",
    "- Use the keyword search tool to extract a search phrase from the question and choice\n",
    "- Use the search tool to retrieve context from the keyword search results\n",
    "- Reason must be >32 and <256 tokens\n",
    "</constraint>\n",
    "\"\"\"\n",
    "\n",
    "llm = ChatOpenAI(model=\"gpt-4.1\", temperature=0.0)\n",
    "# 6) Build the classification chain\n",
    "web_search_agent = create_react_agent(\n",
    "    model=llm,\n",
    "    tools=[\n",
    "        keyword_search_chain_tool,\n",
    "        search_tool\n",
    "    ],\n",
    "    prompt=web_search_prompt,\n",
    "    name=\"websearch_with_tools\",\n",
    "    response_format=OutputFormat)\n",
    "\n"
   ]
  },
  {
   "cell_type": "markdown",
   "id": "cc261a22",
   "metadata": {},
   "source": [
    "##### Test"
   ]
  },
  {
   "cell_type": "code",
   "execution_count": 43,
   "id": "78cdf1fb",
   "metadata": {},
   "outputs": [
    {
     "data": {
      "text/plain": [
       "{'messages': [HumanMessage(content='ID: 123Query: Answer the question with the appropriate options A, B, C and D. Please respond with the exact answer A, B, C or D only. Do not be verbose or provide extra information. \\nQuestion: According to COSO, which of the following is the most effective method to transmit a message of ethical behavior throughout an organization?\\nAnswer Choices: A: Demonstrating appropriate behavior by example., B: Strengthening internal audit’s ability to deter and report improper behavior., C: Removing pressures to meet unrealistic targets, particularly for short-term results., D: Specifying the competence levels for every job in an organization and translating those levels to requisite knowledge and skills. \\nAnswer:', additional_kwargs={}, response_metadata={}, id='83228172-5eb0-4907-bfd8-aea4ce0d62f6'),\n",
       "  AIMessage(content='', additional_kwargs={'tool_calls': [{'id': 'call_eOVZPT6HCvufslkP0wUKpBba', 'function': {'arguments': '{\"query\":\"COSO most effective method transmit message ethical behavior organization\"}', 'name': 'keyword_search_chain_tool'}, 'type': 'function'}], 'refusal': None}, response_metadata={'token_usage': {'completion_tokens': 25, 'prompt_tokens': 1149, 'total_tokens': 1174, 'completion_tokens_details': {'accepted_prediction_tokens': 0, 'audio_tokens': 0, 'reasoning_tokens': 0, 'rejected_prediction_tokens': 0}, 'prompt_tokens_details': {'audio_tokens': 0, 'cached_tokens': 0}}, 'model_name': 'gpt-4.1-2025-04-14', 'system_fingerprint': 'fp_51e1070cf2', 'id': 'chatcmpl-BmCXCFfGxZvxkDfk4iLSrQhwLGumW', 'service_tier': 'default', 'finish_reason': 'tool_calls', 'logprobs': None}, name='websearch_with_tools', id='run--03b4d301-3a57-4440-a835-8e5de132eee0-0', tool_calls=[{'name': 'keyword_search_chain_tool', 'args': {'query': 'COSO most effective method transmit message ethical behavior organization'}, 'id': 'call_eOVZPT6HCvufslkP0wUKpBba', 'type': 'tool_call'}], usage_metadata={'input_tokens': 1149, 'output_tokens': 25, 'total_tokens': 1174, 'input_token_details': {'audio': 0, 'cache_read': 0}, 'output_token_details': {'audio': 0, 'reasoning': 0}}),\n",
       "  ToolMessage(content=\"keyword_seach='COSO ethical behavior communication methods'\", name='keyword_search_chain_tool', id='7d606d1c-89a4-41d3-993e-89eb85c2e185', tool_call_id='call_eOVZPT6HCvufslkP0wUKpBba'),\n",
       "  AIMessage(content='', additional_kwargs={'tool_calls': [{'id': 'call_fR70QFRxSsUMVhbMt9xA9F3N', 'function': {'arguments': '{\"query\":\"COSO ethical behavior communication methods most effective\",\"search_depth\":\"advanced\"}', 'name': 'tavily_search'}, 'type': 'function'}], 'refusal': None}, response_metadata={'token_usage': {'completion_tokens': 28, 'prompt_tokens': 1199, 'total_tokens': 1227, 'completion_tokens_details': {'accepted_prediction_tokens': 0, 'audio_tokens': 0, 'reasoning_tokens': 0, 'rejected_prediction_tokens': 0}, 'prompt_tokens_details': {'audio_tokens': 0, 'cached_tokens': 1024}}, 'model_name': 'gpt-4.1-2025-04-14', 'system_fingerprint': 'fp_51e1070cf2', 'id': 'chatcmpl-BmCXDt0pAsvHRd61LS5DNlDvOdaQx', 'service_tier': 'default', 'finish_reason': 'tool_calls', 'logprobs': None}, name='websearch_with_tools', id='run--6dcf1643-a003-44d3-9358-00d7560f5fd3-0', tool_calls=[{'name': 'tavily_search', 'args': {'query': 'COSO ethical behavior communication methods most effective', 'search_depth': 'advanced'}, 'id': 'call_fR70QFRxSsUMVhbMt9xA9F3N', 'type': 'tool_call'}], usage_metadata={'input_tokens': 1199, 'output_tokens': 28, 'total_tokens': 1227, 'input_token_details': {'audio': 0, 'cache_read': 1024}, 'output_token_details': {'audio': 0, 'reasoning': 0}}),\n",
       "  ToolMessage(content='{\"query\": \"COSO ethical behavior communication methods most effective\", \"follow_up_questions\": null, \"answer\": null, \"images\": [], \"results\": [{\"url\": \"https://homework.study.com/explanation/according-to-coso-what-is-the-most-effective-method-to-transmit-a-message-of-ethical-behavior-throughout-an-organization-what-is-the-dodd-frank-act.html\", \"title\": \"According to COSO, what is the most effective method to transmit a ...\", \"content\": \"Therefore, the most effective method to transmit a message of ethical behavior throughout an organization, according to COSO, is through the proper demonstration of the desired behavior that reflects ethics and organizational values .\", \"score\": 0.8832463, \"raw_content\": null}, {\"url\": \"https://brainly.com/question/53385795\", \"title\": \"According to COSO, which of the following is the most effective ...\", \"content\": \"According to COSO, the most effective method to transmit a message of ethical behavior in an organization is to demonstrate appropriate behavior\", \"score\": 0.86981434, \"raw_content\": null}, {\"url\": \"https://brainly.com/question/38009702\", \"title\": \"According to COSO, which of the following is the most effective ...\", \"content\": \"The most effective method to transmit ethical behavior throughout an organization, according to COSO, is to demonstrate appropriate behavior by\", \"score\": 0.8396422, \"raw_content\": null}], \"response_time\": 0.89}', name='tavily_search', id='0addcd6d-f276-402e-815c-7e76c90028e9', tool_call_id='call_fR70QFRxSsUMVhbMt9xA9F3N'),\n",
       "  AIMessage(content='{\\n  \"answer\": \"A\",\\n  \"reason\": \"According to COSO, the most effective method to transmit a message of ethical behavior throughout an organization is to demonstrate appropriate behavior by example. Multiple sources confirm that leading by example is emphasized by COSO as the best way to communicate ethical standards and values across an organization.\"\\n}', additional_kwargs={'refusal': None}, response_metadata={'token_usage': {'completion_tokens': 68, 'prompt_tokens': 1569, 'total_tokens': 1637, 'completion_tokens_details': {'accepted_prediction_tokens': 0, 'audio_tokens': 0, 'reasoning_tokens': 0, 'rejected_prediction_tokens': 0}, 'prompt_tokens_details': {'audio_tokens': 0, 'cached_tokens': 1536}}, 'model_name': 'gpt-4.1-2025-04-14', 'system_fingerprint': 'fp_51e1070cf2', 'id': 'chatcmpl-BmCXGhWZiGj55deSLRinWDtW5laVX', 'service_tier': 'default', 'finish_reason': 'stop', 'logprobs': None}, name='websearch_with_tools', id='run--26bd866a-7e1f-49e2-991b-e361da492beb-0', usage_metadata={'input_tokens': 1569, 'output_tokens': 68, 'total_tokens': 1637, 'input_token_details': {'audio': 0, 'cache_read': 1536}, 'output_token_details': {'audio': 0, 'reasoning': 0}})],\n",
       " 'structured_response': OutputFormat(answer='A', reason=\"According to COSO, the most effective way to transmit a message of ethical behavior throughout an organization is by demonstrating appropriate behavior by example. This approach is emphasized in COSO's framework as it sets a clear standard for others to follow and reinforces the organization's commitment to ethical conduct.\")}"
      ]
     },
     "execution_count": 43,
     "metadata": {},
     "output_type": "execute_result"
    }
   ],
   "source": [
    "response = web_search_agent.invoke(\n",
    "    {\n",
    "        \"messages\": [\n",
    "            (\n",
    "                \"human\",\n",
    "                \"ID: 123\"\n",
    "                f\"\"\"Query: {data.iloc[2,1]}\"\"\"\n",
    "                \n",
    "            )\n",
    "        ]\n",
    "    }\n",
    ")\n",
    "\n",
    "response"
   ]
  },
  {
   "cell_type": "code",
   "execution_count": 46,
   "id": "6af55b3d",
   "metadata": {},
   "outputs": [
    {
     "data": {
      "text/plain": [
       "'A'"
      ]
     },
     "metadata": {},
     "output_type": "display_data"
    },
    {
     "data": {
      "text/plain": [
       "\"According to COSO, the most effective way to transmit a message of ethical behavior throughout an organization is by demonstrating appropriate behavior by example. This approach is emphasized in COSO's framework as it sets a clear standard for others to follow and reinforces the organization's commitment to ethical conduct.\""
      ]
     },
     "metadata": {},
     "output_type": "display_data"
    }
   ],
   "source": [
    "display(response['structured_response'].answer)\n",
    "display(response['structured_response'].reason)"
   ]
  },
  {
   "cell_type": "code",
   "execution_count": null,
   "id": "eb6ca8a3",
   "metadata": {},
   "outputs": [
    {
     "name": "stdout",
     "output_type": "stream",
     "text": [
      "ตอบคำถามด้วยตัวเลือกที่เหมาะสม A, B, C และ D โปรดตอบด้วยคำตอบที่ถูกต้อง A, B, C หรือ D เท่านั้น อย่าใช้คำฟุ่มเฟือยหรือให้ข้อมูลเพิ่มเติม\n",
      "\n",
      "คำถาม: ______ สถานที่ทำงานเกี่ยวข้องกับการเสริมสร้างศักยภาพให้พนักงาน ตัวอย่างเช่น 'job enrichment' ที่พนักงานได้รับขอบเขตที่ใหญ่ขึ้นในการตัดสินใจว่าจะจัดระเบียบงานของตนอย่างไร หรือ 'job enlargement' ที่พนักงานได้รับมอบหมายงานที่หลากหลายมากขึ้น\n",
      "\n",
      "ตัวเลือกคำตอบ: A: Re-invigorating, B: Re-flourishing, C: Revitalizing, D: Rehumanizing\n",
      "\n",
      "คำตอบ:\n"
     ]
    },
    {
     "data": {
      "text/plain": [
       "OutputFormat(answer='A', reason='Demonstrating appropriate behavior by example is the most effective method to transmit a message of ethical behavior throughout an organization, as it sets a standard for employees to follow. When leaders and management exemplify ethical conduct, it fosters a culture of integrity and encourages employees to emulate that behavior. This approach is more impactful than merely establishing policies or removing pressures, as it directly influences the organizational climate and employee attitudes towards ethics.')"
      ]
     },
     "execution_count": 42,
     "metadata": {},
     "output_type": "execute_result"
    }
   ],
   "source": [
    "print(data.iloc[2,1])\n",
    "\n",
    "response = chain.invoke({   \n",
    "    \"id\": 1234,\n",
    "    \"query\": data.iloc[2,1]\n",
    "})\n",
    "\n",
    "response"
   ]
  },
  {
   "cell_type": "markdown",
   "id": "0369e1b1",
   "metadata": {},
   "source": [
    "##### Run full dataset"
   ]
  },
  {
   "cell_type": "code",
   "execution_count": 49,
   "id": "3c1d8988",
   "metadata": {},
   "outputs": [
    {
     "name": "stdout",
     "output_type": "stream",
     "text": [
      "Processed 0 rows so far...\n",
      "Processed 5 rows so far...\n",
      "Processed 10 rows so far...\n",
      "Processed 15 rows so far...\n",
      "Processed 20 rows so far...\n",
      "Processed 25 rows so far...\n",
      "Processed 30 rows so far...\n",
      "Processed 35 rows so far...\n",
      "Processed 40 rows so far...\n",
      "Processed 45 rows so far...\n",
      "Processed 50 rows so far...\n",
      "Processed 55 rows so far...\n",
      "Processed 60 rows so far...\n",
      "Processed 65 rows so far...\n",
      "Processed 70 rows so far...\n",
      "Processed 75 rows so far...\n",
      "Processed 80 rows so far...\n",
      "Processed 85 rows so far...\n",
      "Processed 90 rows so far...\n",
      "Processed 95 rows so far...\n",
      "Processed 100 rows so far...\n",
      "Processed 105 rows so far...\n",
      "Processed 110 rows so far...\n",
      "Processed 115 rows so far...\n",
      "Processed 120 rows so far...\n",
      "Processed 125 rows so far...\n",
      "Processed 130 rows so far...\n",
      "Processed 135 rows so far...\n",
      "Processed 140 rows so far...\n",
      "Processed 145 rows so far...\n",
      "Processed 150 rows so far...\n",
      "Processed 155 rows so far...\n",
      "Processed 160 rows so far...\n",
      "Processed 165 rows so far...\n",
      "Processed 170 rows so far...\n",
      "Processed 175 rows so far...\n",
      "Processed 180 rows so far...\n",
      "Processed 185 rows so far...\n",
      "Processed 190 rows so far...\n",
      "Processed 195 rows so far...\n",
      "Processed 200 rows so far...\n",
      "Processed 205 rows so far...\n",
      "Processed 210 rows so far...\n",
      "Processed 215 rows so far...\n",
      "Processed 220 rows so far...\n",
      "Processed 225 rows so far...\n",
      "Processed 230 rows so far...\n",
      "Processed 235 rows so far...\n",
      "Processed 240 rows so far...\n",
      "Processed 245 rows so far...\n",
      "Processed 250 rows so far...\n",
      "Processed 255 rows so far...\n",
      "Processed 260 rows so far...\n",
      "Processed 265 rows so far...\n",
      "Processed 270 rows so far...\n",
      "Processed 275 rows so far...\n",
      "Processed 280 rows so far...\n",
      "Processed 285 rows so far...\n",
      "Processed 290 rows so far...\n",
      "Processed 295 rows so far...\n",
      "Processed 300 rows so far...\n",
      "Processed 305 rows so far...\n",
      "Processed 310 rows so far...\n",
      "Processed 315 rows so far...\n",
      "Processed 320 rows so far...\n",
      "Processed 325 rows so far...\n",
      "Processed 330 rows so far...\n",
      "Processed 335 rows so far...\n",
      "Processed 340 rows so far...\n",
      "Processed 345 rows so far...\n",
      "Processed 350 rows so far...\n",
      "Processed 355 rows so far...\n",
      "Processed 360 rows so far...\n",
      "Processed 365 rows so far...\n",
      "Processed 370 rows so far...\n",
      "Processed 375 rows so far...\n",
      "Processed 380 rows so far...\n",
      "Processed 385 rows so far...\n",
      "Processed 390 rows so far...\n",
      "Processed 395 rows so far...\n",
      "Processed 400 rows so far...\n",
      "Processed 405 rows so far...\n",
      "Processed 410 rows so far...\n",
      "Processed 415 rows so far...\n",
      "Processed 420 rows so far...\n",
      "Processed 425 rows so far...\n",
      "Processed 430 rows so far...\n",
      "Processed 435 rows so far...\n",
      "Processed 440 rows so far...\n",
      "Processed 445 rows so far...\n",
      "Processed 450 rows so far...\n",
      "Processed 455 rows so far...\n",
      "Processed 460 rows so far...\n",
      "Processed 465 rows so far...\n",
      "Processed 470 rows so far...\n",
      "Processed 475 rows so far...\n",
      "Processed 480 rows so far...\n",
      "Processed 485 rows so far...\n",
      "Processed 490 rows so far...\n",
      "Processed 495 rows so far...\n"
     ]
    },
    {
     "data": {
      "text/html": [
       "<div>\n",
       "<style scoped>\n",
       "    .dataframe tbody tr th:only-of-type {\n",
       "        vertical-align: middle;\n",
       "    }\n",
       "\n",
       "    .dataframe tbody tr th {\n",
       "        vertical-align: top;\n",
       "    }\n",
       "\n",
       "    .dataframe thead th {\n",
       "        text-align: right;\n",
       "    }\n",
       "</style>\n",
       "<table border=\"1\" class=\"dataframe\">\n",
       "  <thead>\n",
       "    <tr style=\"text-align: right;\">\n",
       "      <th></th>\n",
       "      <th>id</th>\n",
       "      <th>query</th>\n",
       "      <th>0</th>\n",
       "      <th>1</th>\n",
       "    </tr>\n",
       "  </thead>\n",
       "  <tbody>\n",
       "    <tr>\n",
       "      <th>0</th>\n",
       "      <td>36deab86-cfd3-48b5-9bea-a36c1b0e63a8</td>\n",
       "      <td>ตอบคำถามด้วยตัวเลือกที่เหมาะสม A, B, C และ D โ...</td>\n",
       "      <td>D</td>\n",
       "      <td>คำว่า 'Rehumanizing' หมายถึงการทำให้สถานที่ทำง...</td>\n",
       "    </tr>\n",
       "    <tr>\n",
       "      <th>1</th>\n",
       "      <td>2b5bbd26-45e8-4768-ab8a-b5dc1d153ab7</td>\n",
       "      <td>Answer the question with the appropriate optio...</td>\n",
       "      <td>B</td>\n",
       "      <td>James Dyson is widely recognized as an entrepr...</td>\n",
       "    </tr>\n",
       "    <tr>\n",
       "      <th>2</th>\n",
       "      <td>8a722080-bc16-49db-89c9-100cd61cd28a</td>\n",
       "      <td>Answer the question with the appropriate optio...</td>\n",
       "      <td>A</td>\n",
       "      <td>According to COSO, the most effective way to t...</td>\n",
       "    </tr>\n",
       "    <tr>\n",
       "      <th>3</th>\n",
       "      <td>75316e95-88f4-4fef-83b9-dde0aa52889a</td>\n",
       "      <td>ตอบคำถามด้วยตัวเลือกที่เหมาะสม A, B, C และ D โ...</td>\n",
       "      <td>C</td>\n",
       "      <td>เมื่อ GDP ที่แท้จริงสูงกว่าระดับการจ้างงานเต็ม...</td>\n",
       "    </tr>\n",
       "    <tr>\n",
       "      <th>4</th>\n",
       "      <td>bcca13bc-2675-4645-82cc-7e4c412ed294</td>\n",
       "      <td>Given the data and tweets, could you project w...</td>\n",
       "      <td>Rise</td>\n",
       "      <td>Looking at the data, the closing price on 2018...</td>\n",
       "    </tr>\n",
       "    <tr>\n",
       "      <th>...</th>\n",
       "      <td>...</td>\n",
       "      <td>...</td>\n",
       "      <td>...</td>\n",
       "      <td>...</td>\n",
       "    </tr>\n",
       "    <tr>\n",
       "      <th>494</th>\n",
       "      <td>c9dd262e-405c-4078-baae-262aa48ddcc8</td>\n",
       "      <td>Answer the question with the appropriate optio...</td>\n",
       "      <td>A</td>\n",
       "      <td>A key disadvantage of the general to specific ...</td>\n",
       "    </tr>\n",
       "    <tr>\n",
       "      <th>495</th>\n",
       "      <td>73c720b5-1101-4790-af52-3366823e1d32</td>\n",
       "      <td>ตอบคำถามโดยใช้ตัวเลือกที่เหมาะสม A, B, C และ D...</td>\n",
       "      <td>B</td>\n",
       "      <td>ทฤษฎี Instrumental (เชิงเครื่องมือ) อธิบายว่าผ...</td>\n",
       "    </tr>\n",
       "    <tr>\n",
       "      <th>496</th>\n",
       "      <td>357db18f-d872-416e-a07f-753099853d9c</td>\n",
       "      <td>ตอบคำถามด้วยตัวเลือกที่เหมาะสม A, B, C และ D โ...</td>\n",
       "      <td>D</td>\n",
       "      <td>การส่งมอบผลิตภัณฑ์ให้ตรงกับความต้องการของลูกค้...</td>\n",
       "    </tr>\n",
       "    <tr>\n",
       "      <th>497</th>\n",
       "      <td>2d8b1419-1c46-4e83-892a-081fb417de38</td>\n",
       "      <td>Scrutinize the data and tweets to envisage if ...</td>\n",
       "      <td>Rise</td>\n",
       "      <td>The closing price of $BAC on 2017-12-12 was up...</td>\n",
       "    </tr>\n",
       "    <tr>\n",
       "      <th>498</th>\n",
       "      <td>0ef677d5-2858-407c-9fd5-49d8afbeaaac</td>\n",
       "      <td>Answer the question with the appropriate optio...</td>\n",
       "      <td>C</td>\n",
       "      <td>Price times quantity is the formula for calcul...</td>\n",
       "    </tr>\n",
       "  </tbody>\n",
       "</table>\n",
       "<p>499 rows × 4 columns</p>\n",
       "</div>"
      ],
      "text/plain": [
       "                                       id  \\\n",
       "0    36deab86-cfd3-48b5-9bea-a36c1b0e63a8   \n",
       "1    2b5bbd26-45e8-4768-ab8a-b5dc1d153ab7   \n",
       "2    8a722080-bc16-49db-89c9-100cd61cd28a   \n",
       "3    75316e95-88f4-4fef-83b9-dde0aa52889a   \n",
       "4    bcca13bc-2675-4645-82cc-7e4c412ed294   \n",
       "..                                    ...   \n",
       "494  c9dd262e-405c-4078-baae-262aa48ddcc8   \n",
       "495  73c720b5-1101-4790-af52-3366823e1d32   \n",
       "496  357db18f-d872-416e-a07f-753099853d9c   \n",
       "497  2d8b1419-1c46-4e83-892a-081fb417de38   \n",
       "498  0ef677d5-2858-407c-9fd5-49d8afbeaaac   \n",
       "\n",
       "                                                 query     0  \\\n",
       "0    ตอบคำถามด้วยตัวเลือกที่เหมาะสม A, B, C และ D โ...     D   \n",
       "1    Answer the question with the appropriate optio...     B   \n",
       "2    Answer the question with the appropriate optio...     A   \n",
       "3    ตอบคำถามด้วยตัวเลือกที่เหมาะสม A, B, C และ D โ...     C   \n",
       "4    Given the data and tweets, could you project w...  Rise   \n",
       "..                                                 ...   ...   \n",
       "494  Answer the question with the appropriate optio...     A   \n",
       "495  ตอบคำถามโดยใช้ตัวเลือกที่เหมาะสม A, B, C และ D...     B   \n",
       "496  ตอบคำถามด้วยตัวเลือกที่เหมาะสม A, B, C และ D โ...     D   \n",
       "497  Scrutinize the data and tweets to envisage if ...  Rise   \n",
       "498  Answer the question with the appropriate optio...     C   \n",
       "\n",
       "                                                     1  \n",
       "0    คำว่า 'Rehumanizing' หมายถึงการทำให้สถานที่ทำง...  \n",
       "1    James Dyson is widely recognized as an entrepr...  \n",
       "2    According to COSO, the most effective way to t...  \n",
       "3    เมื่อ GDP ที่แท้จริงสูงกว่าระดับการจ้างงานเต็ม...  \n",
       "4    Looking at the data, the closing price on 2018...  \n",
       "..                                                 ...  \n",
       "494  A key disadvantage of the general to specific ...  \n",
       "495  ทฤษฎี Instrumental (เชิงเครื่องมือ) อธิบายว่าผ...  \n",
       "496  การส่งมอบผลิตภัณฑ์ให้ตรงกับความต้องการของลูกค้...  \n",
       "497  The closing price of $BAC on 2017-12-12 was up...  \n",
       "498  Price times quantity is the formula for calcul...  \n",
       "\n",
       "[499 rows x 4 columns]"
      ]
     },
     "metadata": {},
     "output_type": "display_data"
    }
   ],
   "source": [
    "results = []\n",
    "\n",
    "for num, row in data.iterrows():\n",
    "    response = web_search_agent.invoke(\n",
    "        {\n",
    "            \"messages\": [\n",
    "                (\n",
    "                    \"human\",\n",
    "                    f\"\"\"ID: {row[\"id\"]}\"\"\"\n",
    "                    f\"\"\"Query: {row[\"query\"]}\"\"\"\n",
    "                    \n",
    "                )\n",
    "            ]\n",
    "        }\n",
    "    )\n",
    "    results.append([response['structured_response'].answer, response['structured_response'].reason])\n",
    "\n",
    "    time.sleep(0.1)  # Sleep to avoid hitting rate limits\n",
    "    \n",
    "    if num % 5 == 0:\n",
    "        print(f\"Processed {num} rows so far...\")\n",
    "\n",
    "results_df = pd.DataFrame(results)\n",
    "final_df = pd.concat([data, results_df], axis=1)\n",
    "\n",
    "# display(results_df)\n",
    "display(final_df)"
   ]
  },
  {
   "cell_type": "code",
   "execution_count": 50,
   "id": "b5605cf6",
   "metadata": {},
   "outputs": [],
   "source": [
    "final_df.to_csv(\"output_llm_search_engine.csv\", index=False)"
   ]
  },
  {
   "cell_type": "markdown",
   "id": "cc7f94f0",
   "metadata": {},
   "source": [
    "##### Compare between LLM only and LLM with search engine"
   ]
  },
  {
   "cell_type": "code",
   "execution_count": null,
   "id": "c5b7db61",
   "metadata": {},
   "outputs": [],
   "source": []
  },
  {
   "cell_type": "markdown",
   "id": "feee3c0d",
   "metadata": {},
   "source": [
    "### RAG"
   ]
  },
  {
   "cell_type": "code",
   "execution_count": null,
   "id": "38c09084",
   "metadata": {},
   "outputs": [],
   "source": []
  }
 ],
 "metadata": {
  "kernelspec": {
   "display_name": "venv",
   "language": "python",
   "name": "python3"
  },
  "language_info": {
   "codemirror_mode": {
    "name": "ipython",
    "version": 3
   },
   "file_extension": ".py",
   "mimetype": "text/x-python",
   "name": "python",
   "nbconvert_exporter": "python",
   "pygments_lexer": "ipython3",
   "version": "3.13.2"
  }
 },
 "nbformat": 4,
 "nbformat_minor": 5
}
